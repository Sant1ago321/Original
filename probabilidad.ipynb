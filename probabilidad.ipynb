{
  "cells": [
    {
      "cell_type": "markdown",
      "metadata": {
        "id": "view-in-github",
        "colab_type": "text"
      },
      "source": [
        "<a href=\"https://colab.research.google.com/github/Sant1ago321/Original/blob/main/probabilidad.ipynb\" target=\"_parent\"><img src=\"https://colab.research.google.com/assets/colab-badge.svg\" alt=\"Open In Colab\"/></a>"
      ]
    },
    {
      "cell_type": "markdown",
      "metadata": {
        "id": "yBvyoDRoMK1K"
      },
      "source": [
        "# Módulo 1: Probabilidad - Lección 2 (con soluciones en Python)"
      ],
      "id": "yBvyoDRoMK1K"
    },
    {
      "cell_type": "markdown",
      "metadata": {
        "id": "qpKIl3PEMK1L"
      },
      "source": [
        "## 1️⃣ Introducción\n",
        "\n",
        "**Ejemplo:** Espacio muestral al sacar una carta de una baraja estándar."
      ],
      "id": "qpKIl3PEMK1L"
    },
    {
      "cell_type": "code",
      "metadata": {
        "id": "3wN3bMWYMK1M",
        "outputId": "af88724a-419f-4b04-df09-dd68dc358a5f",
        "colab": {
          "base_uri": "https://localhost:8080/"
        }
      },
      "source": [
        "palos = ['corazones', 'diamantes', 'tréboles', 'picas']\n",
        "valores = [str(n) for n in range(2, 11)] + ['J', 'Q', 'K', 'A']\n",
        "espacio_muestral = [f'{v} de {p}' for p in palos for v in valores]\n",
        "print(f'Espacio muestral (primeras 5 cartas): {espacio_muestral[:5]}')\n",
        "print(f'Tamaño del espacio muestral: {len(espacio_muestral)}')"
      ],
      "id": "3wN3bMWYMK1M",
      "execution_count": null,
      "outputs": [
        {
          "output_type": "stream",
          "name": "stdout",
          "text": [
            "Espacio muestral (primeras 5 cartas): ['2 de corazones', '3 de corazones', '4 de corazones', '5 de corazones', '6 de corazones']\n",
            "Tamaño del espacio muestral: 52\n"
          ]
        }
      ]
    },
    {
      "cell_type": "markdown",
      "metadata": {
        "id": "qaGAANLTMK1N"
      },
      "source": [
        "## 2️⃣ Variables Aleatorias\n",
        "\n",
        "Variable aleatoria: suma de dos dados."
      ],
      "id": "qaGAANLTMK1N"
    },
    {
      "cell_type": "code",
      "metadata": {
        "id": "DlTgMmtvMK1N",
        "colab": {
          "base_uri": "https://localhost:8080/"
        },
        "outputId": "162af5bd-97aa-4e5d-fdc9-9e4f17be216e"
      },
      "source": [
        "from itertools import product\n",
        "resultados = list(product(range(1, 7), repeat=2))\n",
        "suma_dados = [sum(tiro) for tiro in resultados]\n",
        "valores_posibles = sorted(set(suma_dados))\n",
        "print(f'Posibles valores: {valores_posibles}')"
      ],
      "id": "DlTgMmtvMK1N",
      "execution_count": null,
      "outputs": [
        {
          "output_type": "stream",
          "name": "stdout",
          "text": [
            "Posibles valores: [2, 3, 4, 5, 6, 7, 8, 9, 10, 11, 12]\n"
          ]
        }
      ]
    },
    {
      "cell_type": "markdown",
      "metadata": {
        "id": "oWoA2nvnMK1N"
      },
      "source": [
        "## 3️⃣ Distribuciones de Probabilidad\n",
        "\n",
        "Probabilidad de obtener un 7 y gráfico de la distribución."
      ],
      "id": "oWoA2nvnMK1N"
    },
    {
      "cell_type": "code",
      "metadata": {
        "id": "p9IxiPrKMK1N",
        "colab": {
          "base_uri": "https://localhost:8080/",
          "height": 489
        },
        "outputId": "1f6d3e69-b340-4b16-925a-d50e117165cb"
      },
      "source": [
        "import matplotlib.pyplot as plt\n",
        "from collections import Counter\n",
        "cuentas = Counter(suma_dados)\n",
        "total_tiros = len(suma_dados)\n",
        "prob_7 = cuentas[7] / total_tiros\n",
        "print(f'Probabilidad de obtener un 7: {prob_7:.2f}')\n",
        "\n",
        "# Gráfico\n",
        "plt.bar(cuentas.keys(), [v / total_tiros for v in cuentas.values()])\n",
        "plt.xlabel('Suma de los dados')\n",
        "plt.ylabel('Probabilidad')\n",
        "plt.title('Distribución de la suma de dos dados')\n",
        "plt.show()"
      ],
      "id": "p9IxiPrKMK1N",
      "execution_count": null,
      "outputs": [
        {
          "output_type": "stream",
          "name": "stdout",
          "text": [
            "Probabilidad de obtener un 7: 0.17\n"
          ]
        },
        {
          "output_type": "display_data",
          "data": {
            "text/plain": [
              "<Figure size 640x480 with 1 Axes>"
            ],
            "image/png": "[encoded data removed]"
          },
          "metadata": {}
        }
      ]
    },
    {
      "cell_type": "markdown",
      "metadata": {
        "id": "AcIhbw2jMK1O"
      },
      "source": [
        "## 4️⃣ Probabilidad Condicional e Independencia\n",
        "\n",
        "Ejemplo 1️⃣: Probabilidad condicional: carta roja dado que es de corazones."
      ],
      "id": "AcIhbw2jMK1O"
    },
    {
      "cell_type": "code",
      "metadata": {
        "id": "uILtCEwvMK1O"
      },
      "source": [
        "# Solo corazones son rojos, por lo que la probabilidad es 1 (100%).\n",
        "prob_roja_dado_corazon = 1.0\n",
        "print(f'Probabilidad de que sea roja dado que es de corazones: {prob_roja_dado_corazon:.2f}')"
      ],
      "id": "uILtCEwvMK1O",
      "execution_count": null,
      "outputs": []
    },
    {
      "cell_type": "markdown",
      "metadata": {
        "id": "2F4oMYu4MK1O"
      },
      "source": [
        "Ejemplo 2️⃣: eventos independientes (lanzar un dado y lanzar una moneda)."
      ],
      "id": "2F4oMYu4MK1O"
    },
    {
      "cell_type": "code",
      "metadata": {
        "id": "2XCv3gvQMK1O"
      },
      "source": [
        "# Eventos: A = obtener un 6 en el dado, B = obtener cara en la moneda\n",
        "P_A = 1 / 6\n",
        "P_B = 0.5\n",
        "P_AyB = P_A * P_B\n",
        "print(f'P(A): {P_A:.2f}, P(B): {P_B:.2f}, P(A y B): {P_AyB:.2f}')"
      ],
      "id": "2XCv3gvQMK1O",
      "execution_count": null,
      "outputs": []
    },
    {
      "cell_type": "markdown",
      "metadata": {
        "id": "PmiYO5KFMK1P"
      },
      "source": [
        "## 5️⃣ Métricas Estadísticas"
      ],
      "id": "PmiYO5KFMK1P"
    },
    {
      "cell_type": "code",
      "metadata": {
        "id": "rObutyI0MK1P"
      },
      "source": [
        "import numpy as np\n",
        "np.random.seed(42)\n",
        "muestra = np.random.randint(1, 101, 15)\n",
        "media = np.mean(muestra)\n",
        "desviacion = np.std(muestra)\n",
        "print(f'Muestra: {muestra}')\n",
        "print(f'Media: {media:.2f}, Desviación estándar: {desviacion:.2f}')"
      ],
      "id": "rObutyI0MK1P",
      "execution_count": null,
      "outputs": []
    },
    {
      "cell_type": "markdown",
      "metadata": {
        "id": "i9xSGvIoMK1P"
      },
      "source": [
        "## 6️⃣ Regla de Bayes"
      ],
      "id": "i9xSGvIoMK1P"
    },
    {
      "cell_type": "code",
      "metadata": {
        "id": "XVxgqf-VMK1P"
      },
      "source": [
        "# Datos:\n",
        "P_enfermo = 0.02\n",
        "P_sano = 1 - P_enfermo\n",
        "P_positivo_dado_enfermo = 0.95\n",
        "P_positivo_dado_sano = 0.05\n",
        "\n",
        "# Regla de Bayes\n",
        "P_positivo = P_positivo_dado_enfermo * P_enfermo + P_positivo_dado_sano * P_sano\n",
        "P_enfermo_dado_positivo = (P_positivo_dado_enfermo * P_enfermo) / P_positivo\n",
        "print(f'Probabilidad de estar enfermo dado positivo: {P_enfermo_dado_positivo:.2%}')"
      ],
      "id": "XVxgqf-VMK1P",
      "execution_count": null,
      "outputs": []
    }
  ],
  "metadata": {
    "kernelspec": {
      "display_name": "Python 3",
      "language": "python",
      "name": "python3"
    },
    "language_info": {
      "name": "python",
      "version": "3.9"
    },
    "colab": {
      "provenance": [],
      "include_colab_link": true
    }
  },
  "nbformat": 4,
  "nbformat_minor": 5
}